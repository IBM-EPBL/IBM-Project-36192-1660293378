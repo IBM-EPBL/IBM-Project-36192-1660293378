{
  "nbformat": 4,
  "nbformat_minor": 0,
  "metadata": {
    "colab": {
      "provenance": []
    },
    "kernelspec": {
      "name": "python3",
      "display_name": "Python 3"
    },
    "language_info": {
      "name": "python"
    }
  },
  "cells": [
    {
      "cell_type": "code",
      "execution_count": 1,
      "metadata": {
        "id": "hOl97XqiKTO8"
      },
      "outputs": [],
      "source": [
        "!pip install -q kaggle"
      ]
    },
    {
      "cell_type": "code",
      "source": [
        "!mkdir ~/.kaggle"
      ],
      "metadata": {
        "id": "fafQ1zk7Lv1E"
      },
      "execution_count": 2,
      "outputs": []
    },
    {
      "cell_type": "code",
      "source": [
        "!cp kaggle.json ~/.kaggle/"
      ],
      "metadata": {
        "id": "ZCqniWAUL0NW"
      },
      "execution_count": null,
      "outputs": []
    },
    {
      "cell_type": "code",
      "source": [
        "!chmod 600 ~/.kaggle/kaggle.json"
      ],
      "metadata": {
        "id": "_MxqwrPtL9dU"
      },
      "execution_count": null,
      "outputs": []
    },
    {
      "cell_type": "code",
      "source": [
        "!kaggle datasets download -d esai/Healthcare_Data"
      ],
      "metadata": {
        "id": "CshwRfNAMFuC"
      },
      "execution_count": null,
      "outputs": []
    },
    {
      "cell_type": "markdown",
      "source": [
        "Downloading healthcare-data.zip to /content\n",
        "  0% 0.00/6.54M [00:00, ?B/s]\n",
        "100% 6.54M/6.54M [00:00<00:00, 80.9MB/s]"
      ],
      "metadata": {
        "id": "HP5AufoiM6Ah"
      }
    },
    {
      "cell_type": "code",
      "source": [
        "!unzip /content/healthcare-data.zip"
      ],
      "metadata": {
        "id": "s4-e4NxrMycJ"
      },
      "execution_count": null,
      "outputs": []
    }
  ]
}